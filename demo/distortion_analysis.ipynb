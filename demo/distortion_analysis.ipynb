{
 "cells": [
  {
   "cell_type": "markdown",
   "metadata": {},
   "source": [
    "# Distortion analysis\n",
    "___\n",
    "This notebook uses the result of 'bf_template_match' to quantify local distortions.\n",
    "Please, specify in the the according best-match .tif file in the 'Input' section below.\n",
    "\n",
    "Steps:\n",
    "0. Import required Python modules\n",
    "1. Define helper functions \n",
    "2. Specify input parameters\n",
    "3. Compute local distortion field (from pre- to post-expansion image)\n",
    "4. Calculates the magnitude and angluar histograms of the distortion field\n",
    "\n",
    "Each code block can be executed by \"SHIFT+Enter\""
   ]
  },
  {
   "cell_type": "code",
   "execution_count": 1,
   "metadata": {},
   "outputs": [],
   "source": [
    "import os\n",
    "import cv2\n",
    "import tifffile\n",
    "import matplotlib\n",
    "from numpy import ma\n",
    "import numpy; np=numpy\n",
    "from skimage import color, filters\n",
    "from tqdm import tqdm_notebook as tqdm\n",
    "from matplotlib import pyplot as plt; plt.ion()\n",
    "from skimage.exposure import rescale_intensity\n",
    "\n"
   ]
  },
  {
   "cell_type": "markdown",
   "metadata": {},
   "source": [
    "## Helper functions\n",
    "___"
   ]
  },
  {
   "cell_type": "code",
   "execution_count": 2,
   "metadata": {},
   "outputs": [],
   "source": [
    "%matplotlib qt5\n",
    "\n",
    "# setup colormaps for later display\n",
    "cmap = numpy.zeros((256,4))\n",
    "cmap[:,3] = 1\n",
    "cmap[:,0] = numpy.linspace(0, 1,256)\n",
    "cmap[:,2] = numpy.linspace(0, 1,256)\n",
    "magenta = matplotlib.colors.ListedColormap(cmap)\n",
    "\n",
    "cmap = numpy.zeros((256,4))\n",
    "cmap[:,3] = 1\n",
    "cmap[:,1] = numpy.linspace(0, 1,256)\n",
    "green = matplotlib.colors.ListedColormap(cmap)\n",
    "\n",
    "# calculation of deformation field\n",
    "def calc_flow(img1, img2):\n",
    "    flow = cv2.calcOpticalFlowFarneback(img1, img2, None, 0.5, \n",
    "                                        levels=3, \n",
    "                                        winsize=winsize, \n",
    "                                        iterations=3, \n",
    "                                        poly_n=5, \n",
    "                                        poly_sigma=poly_sigma, \n",
    "                                        flags=0)\n",
    "    u = flow[...,0]\n",
    "    v = flow[...,1]\n",
    "    \n",
    "    return u, v\n",
    "\n",
    "# display subsampled deformation field with arrows\n",
    "def show_flow_field(u, v, ax=None, subsample=32, color='r', scale=1/2):\n",
    "    if ax is None:\n",
    "        ax = plt.gca()\n",
    "    x_, y_ = numpy.meshgrid(range(0, u.shape[1]), range(0, u.shape[0]))\n",
    "    ax.quiver( x_[subsample//2::subsample, subsample//2::subsample], \n",
    "               y_[subsample//2::subsample, subsample//2::subsample], \n",
    "               u [subsample//2::subsample, subsample//2::subsample], \n",
    "               v [subsample//2::subsample, subsample//2::subsample],  \n",
    "              angles='xy', \n",
    "              scale_units='xy', \n",
    "              scale=scale, \n",
    "              pivot='mid', \n",
    "              headwidth=2,\n",
    "              headlength=3,\n",
    "              color=color,\n",
    "              width=0.002)"
   ]
  },
  {
   "cell_type": "markdown",
   "metadata": {},
   "source": [
    "## Inputs\n",
    "___"
   ]
  },
  {
   "cell_type": "code",
   "execution_count": 3,
   "metadata": {},
   "outputs": [],
   "source": [
    "### Please, specify here the output from bf_template_match!\n",
    "image_pair_in_filename = \"best_match_c0.561_ef8.000_a155.0_high-post-res.tif\""
   ]
  },
  {
   "cell_type": "code",
   "execution_count": 3,
   "metadata": {},
   "outputs": [],
   "source": [
    "if not os.path.exists(image_pair_in_filename):\n",
    "    print(\"ERROR: File '{}' not found: Please specify the resulting best-match .tif file from 'bf_template_match' script \"\n",
    "          \"in post-expansion image resolution (high-post_res suffix).\".format(image_pair_in_filename))\n",
    "\n",
    "### Basic parameters for optimal results with the suplied demo data\n",
    "pixel_size  = 0.57 # in microns\n",
    "subsample   = 64\n",
    "winsize     = 41\n",
    "poly_sigma  = 3\n",
    "post_image_sigma = 4"
   ]
  },
  {
   "cell_type": "markdown",
   "metadata": {},
   "source": [
    "## Compute local distortion field\n",
    "___"
   ]
  },
  {
   "cell_type": "code",
   "execution_count": 4,
   "metadata": {},
   "outputs": [],
   "source": [
    "img_pair_in = tifffile.imread(image_pair_in_filename)\n",
    "\n",
    "img_pre   = img_pair_in[0]\n",
    "img_post  = img_pair_in[1]\n",
    "\n",
    "img_post = filters.gaussian(img_post, post_image_sigma, preserve_range=True)\n",
    "img_post = rescale_intensity(img_post, (img_post.min(), numpy.percentile(img_post, 99.9)), 'uint8')\n",
    "img_pre  = rescale_intensity(img_pre,  (img_pre.min(),  numpy.percentile(img_pre,  99.9)), 'uint8')\n",
    "\n",
    "u, v = calc_flow(img_pre, img_post)\n",
    "\n",
    "f = plt.figure(figsize=(10, 10))\n",
    "\n",
    "ax = plt.Axes(f, [0,0,1,0.95],\n",
    "                 yticks=[],\n",
    "                 xticks=[],\n",
    "                 frame_on=False)\n",
    "f.add_axes(ax)\n",
    "ax = plt.gca()\n",
    "\n",
    "tmp = numpy.zeros(img_post.shape + (3,), dtype=numpy.uint8)\n",
    "tmp[..., 0] = img_pre\n",
    "tmp[..., 1] = img_post\n",
    "\n",
    "ax.imshow(img_pre,  cmap=green, alpha=1)\n",
    "ax.imshow(img_post, cmap=magenta, alpha=0.5)\n",
    "\n",
    "ax.set_axis_off()\n",
    "\n",
    "U = ma.masked_array(u, mask=img_post==img_post.min())\n",
    "V = ma.masked_array(v, mask=img_post==img_post.min())\n",
    "\n",
    "show_flow_field(U, V, ax, color='w', scale=1., subsample=subsample)"
   ]
  },
  {
   "cell_type": "markdown",
   "metadata": {},
   "source": [
    "## Calculate the magnitude and angluar histograms of the distortion field\n",
    "___"
   ]
  },
  {
   "cell_type": "code",
   "execution_count": 5,
   "metadata": {},
   "outputs": [
    {
     "name": "stderr",
     "output_type": "stream",
     "text": [
      "C:\\Users\\csommer\\anaconda3\\lib\\site-packages\\matplotlib\\cbook\\deprecation.py:106: MatplotlibDeprecationWarning: Adding an axes using the same arguments as a previous axes currently reuses the earlier instance.  In a future version, a new instance will always be created and returned.  Meanwhile, this warning can be suppressed, and the future behavior ensured, by passing a unique label to each axes instance.\n",
      "  warnings.warn(message, mplDeprecation, stacklevel=1)\n"
     ]
    },
    {
     "data": {
      "text/plain": [
       "[]"
      ]
     },
     "execution_count": 5,
     "metadata": {},
     "output_type": "execute_result"
    }
   ],
   "source": [
    "mag = numpy.sqrt(u**2 + v**2)\n",
    "mag_um = mag * pixel_size\n",
    "\n",
    "### Histogram of distortion magnitudes\n",
    "f = plt.figure(figsize=(4, 3))\n",
    "hist_data = plt.hist(mag_um.ravel(), numpy.linspace(0,20,32), density=True)\n",
    "plt.xlabel(\"Distortions (um)\")\n",
    "plt.ylabel(\"Normalized fraction (au)\")\n",
    "plt.xticks(range(0,21,5))\n",
    "plt.tight_layout()\n",
    "\n",
    "### Angular distributions of distortion vectors\n",
    "f = plt.figure(figsize=(4, 4))\n",
    "bins = numpy.linspace(-numpy.pi, numpy.pi, 360)\n",
    "his = plt.hist(numpy.angle(u + 1j * v).ravel(), bins, density=True)\n",
    "ax = plt.subplot(111, polar=True)\n",
    "ax.plot(his[1][:-1], his[0], 'r-')\n",
    "plt.fill_between(his[1][:-1], 0, his[0], alpha=0.2)\n",
    "plt.xlabel(\"Angular distribution of distortion vectors\")\n",
    "plt.tight_layout()\n",
    "ax.set_yticklabels([])"
   ]
  },
  {
   "cell_type": "code",
   "execution_count": null,
   "metadata": {},
   "outputs": [],
   "source": []
  }
 ],
 "metadata": {
  "kernelspec": {
   "display_name": "Python 3",
   "language": "python",
   "name": "python3"
  },
  "language_info": {
   "codemirror_mode": {
    "name": "ipython",
    "version": 3
   },
   "file_extension": ".py",
   "mimetype": "text/x-python",
   "name": "python",
   "nbconvert_exporter": "python",
   "pygments_lexer": "ipython3",
   "version": "3.6.4"
  }
 },
 "nbformat": 4,
 "nbformat_minor": 2
}
